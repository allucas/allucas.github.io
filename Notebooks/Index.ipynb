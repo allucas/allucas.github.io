{
 "cells": [
  {
   "cell_type": "code",
   "execution_count": 14,
   "metadata": {},
   "outputs": [
    {
     "data": {
      "application/javascript": [
       "(function(on) {\n",
       "const e=$( \"<a>Setup failed</a>\" );\n",
       "const ns=\"js_jupyter_suppress_warnings\";\n",
       "var cssrules=$(\"#\"+ns);\n",
       "if(!cssrules.length) cssrules = $(\"<style id='\"+ns+\"' type='text/css'>div.output_stderr { } </style>\").appendTo(\"head\");\n",
       "e.click(function() {\n",
       "    var s='Showing';  \n",
       "    cssrules.empty()\n",
       "    if(on) {\n",
       "        s='';\n",
       "        cssrules.append(\"div.output_stderr, div[data-mime-type*='.stderr'] { display:none; }\");\n",
       "    }\n",
       "    e.text(s+'');\n",
       "    on=!on;\n",
       "}).click();\n",
       "$(element).append(e);\n",
       "})(true);\n"
      ],
      "text/plain": [
       "<IPython.core.display.Javascript object>"
      ]
     },
     "metadata": {},
     "output_type": "display_data"
    }
   ],
   "source": [
    "%%javascript\n",
    "(function(on) {\n",
    "const e=$( \"<a>Setup failed</a>\" );\n",
    "const ns=\"js_jupyter_suppress_warnings\";\n",
    "var cssrules=$(\"#\"+ns);\n",
    "if(!cssrules.length) cssrules = $(\"<style id='\"+ns+\"' type='text/css'>div.output_stderr { } </style>\").appendTo(\"head\");\n",
    "e.click(function() {\n",
    "    var s='Showing';  \n",
    "    cssrules.empty()\n",
    "    if(on) {\n",
    "        s='';\n",
    "        cssrules.append(\"div.output_stderr, div[data-mime-type*='.stderr'] { display:none; }\");\n",
    "    }\n",
    "    e.text(s+'');\n",
    "    on=!on;\n",
    "}).click();\n",
    "$(element).append(e);\n",
    "})(true);"
   ]
  },
  {
   "cell_type": "markdown",
   "metadata": {},
   "source": [
    "# COVID-19 Vaccine Platforms in Development"
   ]
  },
  {
   "cell_type": "code",
   "execution_count": 19,
   "metadata": {
    "hide_input": true
   },
   "outputs": [
    {
     "name": "stderr",
     "output_type": "stream",
     "text": [
      "Got stderr: Mar 27, 2020 2:30:41 PM org.apache.pdfbox.pdmodel.font.PDCIDFontType2 <init>\n",
      "INFO: OpenType Layout tables used in font BCDGEE+Calibri-Light are not implemented in PDFBox and will be ignored\n",
      "Mar 27, 2020 2:30:42 PM org.apache.pdfbox.pdmodel.font.PDCIDFontType2 <init>\n",
      "INFO: OpenType Layout tables used in font BCDIEE+Calibri are not implemented in PDFBox and will be ignored\n",
      "\n"
     ]
    },
    {
     "data": {
      "image/png": "[encoded data removed]",
      "text/plain": [
       "<Figure size 360x360 with 1 Axes>"
      ]
     },
     "metadata": {
      "needs_background": "light"
     },
     "output_type": "display_data"
    }
   ],
   "source": [
    "\n",
    "\n",
    "import pandas as pd\n",
    "\n",
    "import tabula\n",
    "\n",
    "import requests\n",
    "\n",
    "from ggplot import *\n",
    "\n",
    "import seaborn as sns\n",
    "\n",
    "import matplotlib.pyplot as plt\n",
    "\n",
    "import numpy as np\n",
    "\n",
    "#url = 'https://milkeninstitute.org/sites/default/files/2020-03/Covid19-Tracker-3-36-20-FINAL.pdf'\n",
    "\n",
    "url = 'https://www.who.int/blueprint/priority-diseases/key-action/novel-coronavirus-landscape-ncov.pdf?ua=1'\n",
    "\n",
    "myfile = requests.get(url)\n",
    "open('COVID19-data.pdf', 'wb').write(myfile.content)\n",
    "\n",
    "#declare the path of your file\n",
    "file_path = \"COVID19-data.pdf\"\n",
    "#Convert your file\n",
    "df = tabula.read_pdf(file_path, pages='all', lattice=True,multiple_tables=False)\n",
    "#df = df[10]\n",
    "#df = df.drop(index=0)\n",
    "df = df[0]\n",
    "df = df.dropna(axis=0,thresh=5)\n",
    "#%% Clean the data\n",
    "\n",
    "\n",
    "df.columns = ['platform', 'type_product', 'developer', 'covid', 'stage',\n",
    "              'other']\n",
    "\n",
    "a = df['platform'].values\n",
    "aa = df['stage'].values\n",
    "b = []\n",
    "\n",
    "for i in range(len(a)):\n",
    "    #aa[i] = aa[i].replace('\\r',' ')\n",
    "    b.append(a[i].replace('\\r',' '))\n",
    "    if b[i] == 'Platform':\n",
    "        b[i] = np.nan\n",
    "\n",
    "df['platform'] = b\n",
    "\n",
    "# Evaluate the different trial types\n",
    "stages = ['Pre-Clinical', 'Phase 1', 'Phase 2', 'Phase 3']\n",
    "\n",
    "c = df['stage'].values\n",
    "stage_list = []\n",
    "\n",
    "for i in range(len(c)):\n",
    "    stage = c[i]\n",
    "    for j in range(len(stages)):\n",
    "        if stages[j] in stage:\n",
    "            stage_list.append(stages[j])\n",
    "    if len(stage_list)<i+1:\n",
    "            stage_list.append(np.nan)\n",
    "    \n",
    "\n",
    "df['stage'] = stage_list\n",
    "\n",
    "\n",
    "#%% Plot\n",
    "\n",
    "chart = sns.catplot(x=\"platform\", kind=\"count\", palette=\"ch:.25\", data=df);\n",
    "t = plt.xlabel('Vaccine Platform')\n",
    "t = chart.set_xticklabels(rotation=75)\n",
    "\n",
    "\n",
    "#chart2 = sns.catplot(x=\"stage\", kind=\"count\", palette=\"ch:.25\", data=df);\n",
    "#t = plt.xlabel('FDA Phase')\n",
    "#t = chart2.set_xticklabels(rotation=75)\n",
    "\n",
    "#%%\n",
    "#plt.figure()\n",
    "#plat_count = df['platform'].value_counts()\n",
    "#chart3 = sns.barplot(plat_count.index, plat_count.values, alpha=0.8,palette=\"ch:.25\")\n",
    "#plt.setp(chart3.get_xticklabels(), rotation=90)\n",
    "#plt.xlabel('Vaccine Platform')\n",
    "#plt.ylabel('Count')\n"
   ]
  },
  {
   "cell_type": "markdown",
   "metadata": {},
   "source": [
    "<pre>\n",
    "\n",
    "\n",
    "\n",
    "\n",
    "\n",
    "\n",
    "</pre>\n",
    "\n",
    "\n",
    "\n",
    "# Clincal Trial Phase"
   ]
  },
  {
   "cell_type": "code",
   "execution_count": 21,
   "metadata": {},
   "outputs": [
    {
     "data": {
      "image/png": "[encoded data removed]",
      "text/plain": [
       "<Figure size 360x360 with 1 Axes>"
      ]
     },
     "metadata": {
      "needs_background": "light"
     },
     "output_type": "display_data"
    }
   ],
   "source": [
    "chart2 = sns.catplot(x=\"stage\", kind=\"count\", palette=\"ch:.25\", data=df);\n",
    "t = plt.xlabel('FDA Phase')\n",
    "t = chart2.set_xticklabels(rotation=75)"
   ]
  },
  {
   "cell_type": "code",
   "execution_count": null,
   "metadata": {},
   "outputs": [],
   "source": []
  }
 ],
 "metadata": {
  "kernelspec": {
   "display_name": "Python 3",
   "language": "python",
   "name": "python3"
  },
  "language_info": {
   "codemirror_mode": {
    "name": "ipython",
    "version": 3
   },
   "file_extension": ".py",
   "mimetype": "text/x-python",
   "name": "python",
   "nbconvert_exporter": "python",
   "pygments_lexer": "ipython3",
   "version": "3.7.6"
  }
 },
 "nbformat": 4,
 "nbformat_minor": 4
}
